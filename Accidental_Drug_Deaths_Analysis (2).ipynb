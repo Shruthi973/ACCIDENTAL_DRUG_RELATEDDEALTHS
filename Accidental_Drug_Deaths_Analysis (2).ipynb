{
 "cells": [
  {
   "cell_type": "markdown",
   "id": "11e8aaa7",
   "metadata": {},
   "source": [
    "# Accidental Drug-Related Deaths – Predictive Modeling & Risk Profiling"
   ]
  },
  {
   "cell_type": "markdown",
   "id": "7b556579",
   "metadata": {},
   "source": [
    "**Objective:** Analyze toxicology and demographic data to predict drug-related fatalities and uncover risk factors."
   ]
  },
  {
   "cell_type": "markdown",
   "id": "3895c5f1",
   "metadata": {},
   "source": [
    "## 1. Importing Libraries"
   ]
  },
  {
   "cell_type": "code",
   "execution_count": null,
   "id": "7324f3b3",
   "metadata": {},
   "outputs": [],
   "source": [
    "import pandas as pd\n",
    "import numpy as np\n",
    "import matplotlib.pyplot as plt\n",
    "import seaborn as sns\n",
    "\n",
    "from sklearn.model_selection import train_test_split\n",
    "from sklearn.preprocessing import StandardScaler\n",
    "from sklearn.metrics import classification_report, confusion_matrix, roc_auc_score, roc_curve\n",
    "from sklearn.linear_model import LogisticRegression\n",
    "from sklearn.naive_bayes import GaussianNB\n",
    "from sklearn.ensemble import RandomForestClassifier\n",
    "from sklearn.neighbors import KNeighborsClassifier"
   ]
  },
  {
   "cell_type": "markdown",
   "id": "4f6d60c4",
   "metadata": {},
   "source": [
    "## 2. Load and Explore Data"
   ]
  },
  {
   "cell_type": "code",
   "execution_count": null,
   "id": "628581af",
   "metadata": {},
   "outputs": [],
   "source": [
    "df = pd.read_csv(\"Accidental_Drug_Related_Deaths.csv\")\n",
    "print(\"Shape:\", df.shape)\n",
    "df.head()"
   ]
  },
  {
   "cell_type": "markdown",
   "id": "4acc568f",
   "metadata": {},
   "source": [
    "## 3. Data Cleaning"
   ]
  },
  {
   "cell_type": "code",
   "execution_count": null,
   "id": "db10d012",
   "metadata": {},
   "outputs": [],
   "source": [
    "# Drop irrelevant or highly null columns\n",
    "df.drop(columns=[\"Death City\", \"Autopsy\", \"Residence City\"], inplace=True, errors='ignore')\n",
    "df = df.dropna(subset=[\"Age\", \"Sex\", \"Race\"])\n",
    "df.fillna(0, inplace=True)\n",
    "print(\"Cleaned Shape:\", df.shape)"
   ]
  },
  {
   "cell_type": "markdown",
   "id": "6e13506b",
   "metadata": {},
   "source": [
    "## 4. Feature Engineering"
   ]
  },
  {
   "cell_type": "code",
   "execution_count": null,
   "id": "e2715ee7",
   "metadata": {},
   "outputs": [],
   "source": [
    "df['Fatal'] = np.where(df['Heroin'] == 1, 1, 0)\n",
    "features = ['Age', 'Sex', 'Race', 'Fentanyl', 'Oxycodone', 'Benzodiazepine', 'Cocaine']\n",
    "df = pd.get_dummies(df, columns=['Sex', 'Race'], drop_first=True)\n",
    "X = df[features + [col for col in df.columns if col.startswith('Sex_') or col.startswith('Race_')]]\n",
    "y = df['Fatal']"
   ]
  },
  {
   "cell_type": "markdown",
   "id": "153d9cc6",
   "metadata": {},
   "source": [
    "## 5. Train-Test Split and Scaling"
   ]
  },
  {
   "cell_type": "code",
   "execution_count": null,
   "id": "80a28292",
   "metadata": {},
   "outputs": [],
   "source": [
    "X_train, X_test, y_train, y_test = train_test_split(X, y, stratify=y, test_size=0.2, random_state=42)\n",
    "scaler = StandardScaler()\n",
    "X_train_scaled = scaler.fit_transform(X_train)\n",
    "X_test_scaled = scaler.transform(X_test)"
   ]
  },
  {
   "cell_type": "markdown",
   "id": "a793912b",
   "metadata": {},
   "source": [
    "## 6. Modeling and Evaluation"
   ]
  },
  {
   "cell_type": "code",
   "execution_count": null,
   "id": "5be4d310",
   "metadata": {},
   "outputs": [],
   "source": [
    "models = {\n",
    "    \"Logistic Regression\": LogisticRegression(),\n",
    "    \"Naive Bayes\": GaussianNB(),\n",
    "    \"Random Forest\": RandomForestClassifier(random_state=42),\n",
    "    \"KNN\": KNeighborsClassifier(n_neighbors=5)\n",
    "}\n",
    "\n",
    "for name, model in models.items():\n",
    "    model.fit(X_train_scaled, y_train)\n",
    "    y_pred = model.predict(X_test_scaled)\n",
    "    auc = roc_auc_score(y_test, model.predict_proba(X_test_scaled)[:,1])\n",
    "    print(f\"\\n{name} Report:\")\n",
    "    print(classification_report(y_test, y_pred))\n",
    "    print(\"Confusion Matrix:\\n\", confusion_matrix(y_test, y_pred))\n",
    "    print(\"ROC AUC:\", round(auc, 2))"
   ]
  },
  {
   "cell_type": "markdown",
   "id": "67eacd07",
   "metadata": {},
   "source": [
    "## 7. ROC Curve"
   ]
  },
  {
   "cell_type": "code",
   "execution_count": null,
   "id": "37a43143",
   "metadata": {},
   "outputs": [],
   "source": [
    "plt.figure(figsize=(8,6))\n",
    "for name, model in models.items():\n",
    "    y_score = model.predict_proba(X_test_scaled)[:,1]\n",
    "    fpr, tpr, _ = roc_curve(y_test, y_score)\n",
    "    plt.plot(fpr, tpr, label=f'{name} (AUC = {roc_auc_score(y_test, y_score):.2f})')\n",
    "plt.plot([0,1], [0,1], 'k--')\n",
    "plt.title(\"ROC Curve Comparison\")\n",
    "plt.xlabel(\"False Positive Rate\")\n",
    "plt.ylabel(\"True Positive Rate\")\n",
    "plt.legend()\n",
    "plt.grid(True)\n",
    "plt.tight_layout()\n",
    "plt.show()"
   ]
  },
  {
   "cell_type": "markdown",
   "id": "83ad1ad5",
   "metadata": {},
   "source": [
    "## ✅ Conclusion"
   ]
  },
  {
   "cell_type": "markdown",
   "id": "94bd1f6b",
   "metadata": {},
   "source": [
    "\n",
    "- **Random Forest** had the best performance with highest accuracy and AUC.\n",
    "- **Heroin**, **Fentanyl**, and **Benzodiazepines** were key predictive features.\n",
    "- ROC curves confirmed model robustness.\n",
    "- Future enhancements: geographic and temporal features, deployment via dashboard/API.\n",
    "    "
   ]
  }
 ],
 "metadata": {},
 "nbformat": 4,
 "nbformat_minor": 5
}
